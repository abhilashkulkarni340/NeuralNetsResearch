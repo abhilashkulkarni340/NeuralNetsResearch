{
 "cells": [
  {
   "cell_type": "markdown",
   "metadata": {},
   "source": [
    "# Ordinary differential equations using neural networks"
   ]
  },
  {
   "cell_type": "markdown",
   "metadata": {},
   "source": [
    "The general differential equation that we're tackling is given below:\n",
    "![1](images/1.png)\n",
    "\n",
    "After discretisation of the domain D<sup>^</sup> and its boundary set to the points D<sup>^</sup> and S<sup>^</sup>, we get the following equation:\n",
    "![2](images/2.png)\n",
    "\n",
    "If Ψt(x,p) denotes the trial solution with adjustable parameters p, we can transform the problem into:\n",
    "![3](images/3.png)\n",
    "Here, Ψt employs a feed forward network and parameters p corresponds to the weights and biases of the neural architecture.\n",
    "\n",
    "We can choose the form of trial solution taking the sum of 2 terms:\n",
    "![4](images/4.png)\n",
    "Here, A contains no adjustable parameters so that it can satisfy the boundary conditions and F does not contribute to the boundary conditions."
   ]
  },
  {
   "cell_type": "markdown",
   "metadata": {},
   "source": [
    "*****************"
   ]
  },
  {
   "cell_type": "markdown",
   "metadata": {},
   "source": [
    "Lets start by importing the packages that are required"
   ]
  },
  {
   "cell_type": "code",
   "execution_count": 48,
   "metadata": {
    "collapsed": true
   },
   "outputs": [],
   "source": [
    "import autograd.numpy as np\n",
    "import matplotlib.pyplot as plt\n",
    "%matplotlib inline\n",
    "import random\n",
    "from autograd import grad"
   ]
  },
  {
   "cell_type": "markdown",
   "metadata": {},
   "source": [
    "Now we'll construct a neural network with multilayer perceptron which has 1 hidden layer and 10 neurons in the hidden layer. Let the bias B be zero. Sigmoid function will be the activator and the error will be calculated using the gradient the backpropagation.\n",
    "The sigmoid funtion is given by :\n",
    "![5](images/5.png)"
   ]
  },
  {
   "cell_type": "code",
   "execution_count": 86,
   "metadata": {},
   "outputs": [],
   "source": [
    "def sig(x): #Activator function\n",
    "    return 1 / (1 + np.exp(-x))\n",
    "\n",
    "def grad_sig(x): #function for calculating the gradient\n",
    "    return sig(x) * (1 - sig(x))\n",
    "\n",
    "def neuron(p,x): #neuron architecture\n",
    "    a1 = sig(np.dot(x, p[0]))\n",
    "    return np.dot(a1, p[1])"
   ]
  },
  {
   "cell_type": "markdown",
   "metadata": {},
   "source": [
    "We need to calculate the loss by calculating the accuracy. The accuracy can be obtained by computing the solution of the derivative :\n",
    "![6](images/6.png)\n",
    "We need a function for calculating the derivative of the function N(x,p) which is given by :\n",
    "![11](images/11.png)"
   ]
  },
  {
   "cell_type": "markdown",
   "metadata": {},
   "source": [
    "We also need a trail solution which is given by :\n",
    "![12](images/12.png)"
   ]
  },
  {
   "cell_type": "code",
   "execution_count": 87,
   "metadata": {
    "collapsed": true
   },
   "outputs": [],
   "source": [
    "def trial(ic,xi,res): #it takes the initial condition i.e. Ψ(0), the value of x and the result of the neural net\n",
    "    return ic+xi*res\n",
    "\n",
    "def der_func(p,x): #function to calculate the derivative\n",
    "    return np.dot(np.dot(p[1].T,p[0].T),grad_sig(x))"
   ]
  },
  {
   "cell_type": "markdown",
   "metadata": {},
   "source": [
    "Now, we'll take a problem and check our accuracy.\n",
    "Let us consider this problem :\n",
    "![7](images/7.png)\n",
    "with x in [0,1] and\n",
    "![8](images/8.png)\n",
    "The trial neural form for this is :\n",
    "![10](images/10.png)\n",
    "The analytical solution is given by :\n",
    "![9](images/9.png)"
   ]
  },
  {
   "cell_type": "code",
   "execution_count": 88,
   "metadata": {
    "collapsed": true
   },
   "outputs": [],
   "source": [
    "def A(x): #Function on the right\n",
    "    return x**3 + 2.*x + x**2 * ((1. + 3.*x**2) / (1. + x + x**3))\n",
    "\n",
    "def B(x): #Function on the left\n",
    "    return x + (1. + 3.*x**2) / (1. + x + x**3)\n",
    "\n",
    "def F(x,psi): #the function who's derivative will be calculated\n",
    "    return A(x)-psi*B(x)\n",
    "\n",
    "def Analytical(x): #Function for analytical solution\n",
    "    return (np.exp((-x**2)/2.)) / (1. + x + x**3) + x**2"
   ]
  },
  {
   "cell_type": "markdown",
   "metadata": {},
   "source": [
    "Now we'll make a function to calculate the loss."
   ]
  },
  {
   "cell_type": "code",
   "execution_count": 89,
   "metadata": {
    "collapsed": true
   },
   "outputs": [],
   "source": [
    "def loss(p,x):\n",
    "    loss_sum = 0.\n",
    "    for xi in x:\n",
    "        res = neuron(p, xi)[0][0]\n",
    "        psi = 1. + xi * res\n",
    "        d_res = der_func(p, xi)[0][0]\n",
    "        d_psi = res + xi * d_res\n",
    "        func = F(xi, psi)       \n",
    "        err_sqr = (d_psi - func)**2\n",
    "\n",
    "        loss_sum += err_sqr\n",
    "    return loss_sum"
   ]
  },
  {
   "cell_type": "markdown",
   "metadata": {},
   "source": [
    "Let's create inputs. Since there are 10 neurons in the hidden layer we'll create 10 points in the space."
   ]
  },
  {
   "cell_type": "code",
   "execution_count": 101,
   "metadata": {},
   "outputs": [],
   "source": [
    "x=np.linspace(0,1,10)"
   ]
  },
  {
   "cell_type": "markdown",
   "metadata": {},
   "source": [
    "Let's choose random weights and train the neural net. The iteration occurs 1000 times. We're using gradient descent in the backprop."
   ]
  },
  {
   "cell_type": "code",
   "execution_count": 102,
   "metadata": {},
   "outputs": [],
   "source": [
    "p = [np.random.randn(1, 10), np.random.randn(10, 1)]\n",
    "lmb = 0.001\n",
    "for i in range(1000):\n",
    "    loss_grad =  grad(loss)(p,x)\n",
    "    p[0] = p[0]-lmb*loss_grad[0]\n",
    "    p[1] = p[1]-lmb*loss_grad[1]"
   ]
  },
  {
   "cell_type": "markdown",
   "metadata": {},
   "source": [
    "Let's check the accuracy"
   ]
  },
  {
   "cell_type": "code",
   "execution_count": 103,
   "metadata": {},
   "outputs": [
    {
     "name": "stdout",
     "output_type": "stream",
     "text": [
      "0.117683217359\n"
     ]
    }
   ],
   "source": [
    "print(loss(p,x))"
   ]
  },
  {
   "cell_type": "markdown",
   "metadata": {},
   "source": [
    "Let's compare the output of the neural network with the analytical solution."
   ]
  },
  {
   "cell_type": "code",
   "execution_count": 108,
   "metadata": {},
   "outputs": [
    {
     "data": {
      "image/png": "[encoded data removed]",
      "text/plain": [
       "<matplotlib.figure.Figure at 0x11d191898>"
      ]
     },
     "metadata": {},
     "output_type": "display_data"
    }
   ],
   "source": [
    "y=Analytical(x)\n",
    "res_nn=[1 + xi * neuron(p, xi)[0][0] for xi in x]\n",
    "plt.figure()\n",
    "plt.plot(x,y)\n",
    "plt.plot(x,res_nn)\n",
    "plt.show()"
   ]
  },
  {
   "cell_type": "markdown",
   "metadata": {},
   "source": [
    "We can see that the output of our neural net is close to the actual output. (Blue - Analytical solution, Orange - Neural Net solution)"
   ]
  },
  {
   "cell_type": "markdown",
   "metadata": {},
   "source": [
    "***"
   ]
  },
  {
   "cell_type": "markdown",
   "metadata": {},
   "source": [
    "References :\n",
    "\n",
    "\n",
    "Neural Networks for solving differential equations by Alex Honchar : https://becominghuman.ai/neural-networks-for-solving-differential-equations-fa230ac5e04c\n",
    "Artifial Neural Networks for Solving Ordinary and Partial Differential Equations : https://arxiv.org/pdf/physics/9705023.pdf"
   ]
  },
  {
   "cell_type": "code",
   "execution_count": null,
   "metadata": {
    "collapsed": true
   },
   "outputs": [],
   "source": []
  }
 ],
 "metadata": {
  "kernelspec": {
   "display_name": "Python 3",
   "language": "python",
   "name": "python3"
  },
  "language_info": {
   "codemirror_mode": {
    "name": "ipython",
    "version": 3
   },
   "file_extension": ".py",
   "mimetype": "text/x-python",
   "name": "python",
   "nbconvert_exporter": "python",
   "pygments_lexer": "ipython3",
   "version": "3.6.2"
  }
 },
 "nbformat": 4,
 "nbformat_minor": 2
}
